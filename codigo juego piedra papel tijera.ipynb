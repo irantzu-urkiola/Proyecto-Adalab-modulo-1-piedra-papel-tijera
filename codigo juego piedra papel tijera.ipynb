{
 "cells": [
  {
   "cell_type": "markdown",
   "id": "03d005f3",
   "metadata": {},
   "source": [
    "# PIEDRA PAPEL TIJERA"
   ]
  },
  {
   "cell_type": "code",
   "execution_count": null,
   "id": "1b41408f",
   "metadata": {},
   "outputs": [
    {
     "name": "stdout",
     "output_type": "stream",
     "text": [
      "Empate. ¡Inténtalo de nuevo!\n",
      "Iran: 0 puntos, ordenador: 0 puntos\n",
      " \n",
      "¡Enhorabuena Iran! Ganas esta ronda.\n",
      "Iran: 1 puntos, ordenador: 0 puntos\n",
      " \n",
      "¡Enhorabuena! Iran has ganado la partida. Ordenador, más suerte la próxima vez.\n"
     ]
    }
   ],
   "source": [
    "# Definimos las variables necesarias para el juego\n",
    "\n",
    "lista_opciones = [\"piedra\", \"papel\", \"tijera\"]\n",
    "puntos_jugador1 = 0\n",
    "puntos_ordenador = 0\n",
    "jugador1 = input(\"¡Bienvenida jugadora!¿Cómo te llamas?\")\n",
    "\n",
    "# Importamos módulo random\n",
    "\n",
    "import random\n",
    "\n",
    "# Bucle principal del juego\n",
    "while True:\n",
    "\n",
    "    # Establacemos las rondas (máximo 3 puntos)\n",
    "    if puntos_jugador1 >= 3 or puntos_ordenador >= 3:\n",
    "        break\n",
    "\n",
    "    else:\n",
    "        # Entrada del jugador 1\n",
    "        eleccion_jugador1 = input(f\"{jugador1}. Elige piedra, papel o tijera:\").lower()\n",
    "        if eleccion_jugador1 not in lista_opciones:\n",
    "            print(\"Esta opción no es válida. Por favor, elige piedra, papel o tijera.\")\n",
    "            continue\n",
    "\n",
    "        # Entrada del jugador 2 (ordenador). Elección aleatoria\n",
    "        eleccion_ordenador = random.choice(lista_opciones)\n",
    "\n",
    "        # Opciones del juego\n",
    "        if eleccion_jugador1 == eleccion_ordenador:\n",
    "            print(\"Empate. ¡Inténtalo de nuevo!\")\n",
    "\n",
    "        # jugador 1 gana\n",
    "        elif (eleccion_jugador1 == \"piedra\" and eleccion_ordenador == \"tijera\") or \\\n",
    "            (eleccion_jugador1 == \"papel\" and eleccion_ordenador == \"piedra\") or \\\n",
    "            (eleccion_jugador1 == \"tijera\" and eleccion_ordenador == \"papel\"):\n",
    "\n",
    "            print(f\"¡Enhorabuena {jugador1}! Ganas esta ronda.\")\n",
    "            puntos_jugador1 += 1\n",
    "\n",
    "        else:\n",
    "            print(\"¡Enhorabuena ordenador! Ganas esta ronda.\")\n",
    "            puntos_ordenador += 1\n",
    "\n",
    "        print(f\"{jugador1}: {puntos_jugador1} puntos, ordenador: {puntos_ordenador} puntos\")\n",
    "        print(\" \")\n",
    "\n",
    "if puntos_jugador1 == 3:\n",
    "    print(f\"¡Enhorabuena! {jugador1} has ganado la partida. Ordenador, más suerte la próxima vez.\")\n",
    "else:\n",
    "    print(f\"¡Enhorabuena! Ordenador has ganado la partida. {jugador1}, más suerte la próxima vez.\")\n",
    "\n",
    "\n"
   ]
  }
 ],
 "metadata": {
  "kernelspec": {
   "display_name": "base",
   "language": "python",
   "name": "python3"
  },
  "language_info": {
   "codemirror_mode": {
    "name": "ipython",
    "version": 3
   },
   "file_extension": ".py",
   "mimetype": "text/x-python",
   "name": "python",
   "nbconvert_exporter": "python",
   "pygments_lexer": "ipython3",
   "version": "3.12.7"
  }
 },
 "nbformat": 4,
 "nbformat_minor": 5
}
